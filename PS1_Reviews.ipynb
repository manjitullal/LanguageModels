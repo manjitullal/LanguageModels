{
  "nbformat": 4,
  "nbformat_minor": 0,
  "metadata": {
    "colab": {
      "name": "PS1-Reviews.ipynb",
      "provenance": [],
      "collapsed_sections": []
    },
    "kernelspec": {
      "name": "python3",
      "display_name": "Python 3"
    }
  },
  "cells": [
    {
      "cell_type": "markdown",
      "metadata": {
        "id": "Jc2R3x6QSIFi"
      },
      "source": [
        "In this experiment, you will explore the accuracy of sentiment classificaiton using different feature representations of text documents.\n",
        "\n",
        "First, you will implement `createBasicFeatures`, which creates a sparse matrix representation of a collection of documents. For this exercise, you should have a feature for each word containing at least one alphabetic character. You may use the `numpy` and `sklearn` packages to help with implementing a sparse matrix.\n",
        "\n",
        "Then, you will implement `createFancyFeatures`, which can specify at any other features you choose to help improve performance on the classification task.\n",
        "\n",
        "The two code blocks at the end train and evaluate two models—logistic regression with L1 and L2 regularization—using your featurization functions. Besides held-out classification accuracy with 10-fold cross-validation, you will also see the features in each class given high weights by the model.\n",
        "\n",
        "A helpful resource for getting up to speed with vector representations of documents is the first two chapters of Delip Rao and Brian McMahan, _Natural Language Processing with PyTorch_, O'Reilly, 2019.  You should be able to <a href=\"https://learning.oreilly.com/library/view/natural-language-processing/9781491978221/\">read it online</a> via the Northeastern Library's subscription using a <tt>northeastern.edu</tt> email address."
      ]
    },
    {
      "cell_type": "code",
      "metadata": {
        "id": "AdVS67_HNRmW"
      },
      "source": [
        "import json\n",
        "import requests\n",
        "from sklearn.linear_model import LogisticRegression\n",
        "from sklearn.model_selection import cross_validate,LeaveOneOut,KFold\n",
        "import numpy as np"
      ],
      "execution_count": 117,
      "outputs": []
    },
    {
      "cell_type": "code",
      "metadata": {
        "id": "PzjMY8fYQbB6",
        "cellView": "both"
      },
      "source": [
        "# read in the movie review corpus\n",
        "def readReviews():\n",
        "  raw = requests.get(\"https://raw.githubusercontent.com/mutherr/CS6120-PS1-data/master/cornell_reviews.json\").text.strip()\n",
        "  corpus = [json.loads(line) for line in raw.split(\"\\n\")]\n",
        "\n",
        "  return corpus"
      ],
      "execution_count": 118,
      "outputs": []
    },
    {
      "cell_type": "markdown",
      "metadata": {
        "id": "Qvd3I95FT01D"
      },
      "source": [
        "This is where you will implement two functions to featurize the data."
      ]
    },
    {
      "cell_type": "code",
      "metadata": {
        "id": "039fPQcF7OkN",
        "outputId": "b445d327-3ed4-4135-f86d-4865bbdaa967",
        "colab": {
          "base_uri": "https://localhost:8080/",
          "height": 120
        }
      },
      "source": [
        "#NB: The current contents are for testing only\n",
        "#This function should return: \n",
        "#  -a sparse numpy matrix of document features\n",
        "#  -a list of the correct class for each document\n",
        "#  -a list of the vocabulary used by the features, such that the ith term of the\n",
        "#    list is the word whose counts appear in the ith column of the matrix. \n",
        "\n",
        "# This function should create a feature representation using all tokens that\n",
        "# contain an alphabetic character.\n",
        "from sklearn.feature_extraction.text import CountVectorizer\n",
        "cvectorizer = CountVectorizer()\n",
        "\n",
        "def createBasicFeatures(corpus):\n",
        "    #Your code here\n",
        "    classes = []\n",
        "    vocab = []\n",
        "    all_text = []\n",
        "    for i in corpus:\n",
        "        classes.append(i['class'])\n",
        "        all_text.append(i['text'])\n",
        "    texts = cvectorizer.fit_transform(all_text)\n",
        "    vocab = cvectorizer.get_feature_names()\n",
        "\n",
        "    return texts, classes, vocab\n",
        "\n",
        "# This function can add other features you want that help classification\n",
        "# accuracy, such as bigrams, word prefixes and suffixes, etc.\n",
        "\n",
        "nvectorizer = CountVectorizer(ngram_range=(1, 2))\n",
        "\n",
        "def createFancyFeatures(corpus):\n",
        "    #Your code here\n",
        "    classes = []\n",
        "    vocab = []\n",
        "    all_text = []\n",
        "    for i in corpus:\n",
        "        classes.append(i.get('class'))\n",
        "        text = i.get('text')\n",
        "        all_text.append(text)  \n",
        "        \n",
        "    texts = nvectorizer.fit_transform(all_text) \n",
        "    vocab = nvectorizer.get_feature_names()\n",
        "\n",
        "    return texts,classes,vocab\n",
        "\n",
        "import nltk\n",
        "import re\n",
        "nltk.download('punkt')\n",
        "nltk.download('averaged_perceptron_tagger')\n",
        "from collections import defaultdict\n",
        "from sklearn.feature_extraction import DictVectorizer\n",
        "dictvectorizer = DictVectorizer()\n",
        "\n",
        "def token_freqs(doc):\n",
        "    freq = defaultdict(int)\n",
        "    for tok in doc:\n",
        "        freq[tok] += 1\n",
        "    return freq\n",
        "\n",
        "def createFancyFeatures2(corpus):\n",
        "    classes = []\n",
        "    all_text = []\n",
        "    for i in corpus:\n",
        "        classes.append(i.get('class'))\n",
        "        text = i.get('text')\n",
        "        words = nltk.word_tokenize(text)\n",
        "        tagged = nltk.pos_tag(words)       \n",
        "        temp = token_freqs(tagged)\n",
        "        all_text.append(temp)  \n",
        "    texts = dictvectorizer.fit_transform(all_text) \n",
        "    vocab = list(dictvectorizer.get_feature_names())\n",
        "    return texts,classes,vocab   "
      ],
      "execution_count": 135,
      "outputs": [
        {
          "output_type": "stream",
          "text": [
            "[nltk_data] Downloading package punkt to /root/nltk_data...\n",
            "[nltk_data]   Package punkt is already up-to-date!\n",
            "[nltk_data] Downloading package averaged_perceptron_tagger to\n",
            "[nltk_data]     /root/nltk_data...\n",
            "[nltk_data]   Package averaged_perceptron_tagger is already up-to-\n",
            "[nltk_data]       date!\n"
          ],
          "name": "stdout"
        }
      ]
    },
    {
      "cell_type": "code",
      "metadata": {
        "id": "KfTBqBltXe7Y"
      },
      "source": [
        "#given a numpy matrix representation of the features for the training set, the \n",
        "# vector of true classes for each example, and the vocabulary as described \n",
        "# above, this computes the accuracy of the model using leave one out cross \n",
        "# validation and reports the most indicative features for each class\n",
        "\n",
        "def evaluateModel(X,y,vocab,penalty=\"l1\"):\n",
        "  #create and fit the model\n",
        "  model = LogisticRegression(penalty=penalty,solver=\"liblinear\")\n",
        "  results = cross_validate(model,X,y,cv=KFold(n_splits=10, shuffle=True, random_state=1))\n",
        "  \n",
        "  #determine the average accuracy\n",
        "  scores = results[\"test_score\"]\n",
        "  avg_score = sum(scores)/len(scores)\n",
        "  \n",
        "  #determine the most informative features\n",
        "  # this requires us to fit the model to everything, because we need a\n",
        "  # single model to draw coefficients from, rather than 26\n",
        "  model.fit(X,y)\n",
        "  class0_weight_sorted = model.coef_[0, :].argsort()\n",
        "  class1_weight_sorted = (-model.coef_[0, :]).argsort()\n",
        "\n",
        "  termsToTake = 20\n",
        "  class0_indicators = [vocab[i] for i in class0_weight_sorted[:termsToTake]]\n",
        "  class1_indicators = [vocab[i] for i in class1_weight_sorted[:termsToTake]]\n",
        "\n",
        "  if model.classes_[0] == \"pos\":\n",
        "    return avg_score,class0_indicators,class1_indicators\n",
        "  else:\n",
        "    return avg_score,class1_indicators,class0_indicators\n",
        "\n",
        "def runEvaluation(X,y,vocab):\n",
        "  print(\"----------L1 Norm-----------\")\n",
        "  avg_score,pos_indicators,neg_indicators = evaluateModel(X,y,vocab,\"l1\")\n",
        "  print(\"The model's average accuracy is %f\"%avg_score)\n",
        "  print(\"The most informative terms for pos are: %s\"%pos_indicators)\n",
        "  print(\"The most informative terms for neg are: %s\"%neg_indicators)\n",
        "  #this call will fit a model with L2 normalization\n",
        "  print(\"----------L2 Norm-----------\")\n",
        "  avg_score,pos_indicators,neg_indicators = evaluateModel(X,y,vocab,\"l2\")\n",
        "  print(\"The model's average accuracy is %f\"%avg_score)\n",
        "  print(\"The most informative terms for pos are: %s\"%pos_indicators)\n",
        "  print(\"The most informative terms for neg are: %s\"%neg_indicators)"
      ],
      "execution_count": 8,
      "outputs": []
    },
    {
      "cell_type": "code",
      "metadata": {
        "id": "VWWq5VgmECKV"
      },
      "source": [
        "corpus = readReviews()"
      ],
      "execution_count": 158,
      "outputs": []
    },
    {
      "cell_type": "markdown",
      "metadata": {
        "id": "72OUet02TjBo"
      },
      "source": [
        "Run the following to train and evaluate two models using basic features:"
      ]
    },
    {
      "cell_type": "code",
      "metadata": {
        "id": "4IpJ7PKjvc8I",
        "outputId": "879096dc-cdc1-4a8d-8598-21a32f0f94c5",
        "colab": {
          "base_uri": "https://localhost:8080/",
          "height": 174
        }
      },
      "source": [
        "X,y,vocab = createBasicFeatures(corpus)\n",
        "runEvaluation(X, y, vocab)"
      ],
      "execution_count": 159,
      "outputs": [
        {
          "output_type": "stream",
          "text": [
            "----------L1 Norm-----------\n",
            "The model's average accuracy is 0.828500\n",
            "The most informative terms for pos are: ['flaws', 'memorable', 'terrific', 'edge', 'masterpiece', 'excellent', 'perfectly', 'sherri', 'gas', 'using', 'enjoyable', 'overall', 'fun', 'follows', 'different', 'quite', 'solid', 'allows', 'fantastic', 'side']\n",
            "The most informative terms for neg are: ['waste', 'mess', 'lame', 'worst', 'headed', 'ridiculous', 'unfortunately', 'awful', 'cheap', 'write', 'boring', 'tedious', 'superior', 'jesse', 'terrible', 'bad', 'poor', 'iii', 'designed', 'looks']\n",
            "----------L2 Norm-----------\n",
            "The model's average accuracy is 0.833000\n",
            "The most informative terms for pos are: ['fun', 'great', 'back', 'quite', 'well', 'seen', 'excellent', 'perfectly', 'memorable', 'overall', 'job', 'yet', 'american', 'terrific', 'pulp', 'bit', 'true', 'performances', 'husband', 'masterpiece']\n",
            "The most informative terms for neg are: ['bad', 'unfortunately', 'worst', 'waste', 'nothing', 'script', 'awful', 'boring', 'only', 'plot', 'poor', 'reason', 'looks', 'mess', 'supposed', 'lame', 'women', 'any', 'should', 'anyway']\n"
          ],
          "name": "stdout"
        }
      ]
    },
    {
      "cell_type": "markdown",
      "metadata": {
        "id": "sMrzUrbp_Pe3"
      },
      "source": [
        "Run the following to train and evaluate two models using extended features:"
      ]
    },
    {
      "cell_type": "code",
      "metadata": {
        "id": "AYCSA5CFoFwN",
        "outputId": "f3dd450e-a4ac-4e83-86ae-155b3049c6bc",
        "colab": {
          "base_uri": "https://localhost:8080/",
          "height": 174
        }
      },
      "source": [
        "X,y,vocab = createFancyFeatures(corpus)\n",
        "runEvaluation(X, y, vocab)"
      ],
      "execution_count": 121,
      "outputs": [
        {
          "output_type": "stream",
          "text": [
            "----------L1 Norm-----------\n",
            "The model's average accuracy is 0.839000\n",
            "The most informative terms for pos are: ['even if', 'flaws', 'masterpiece', 'memorable', 'her husband', 'terrific', 'due to', 'gas', 'follows', 'overall', 'as much', 'perfectly', 'loved', 'great', 'fun', 'the two', 'the true', 'fantastic', 'works', 'the more']\n",
            "The most informative terms for neg are: ['waste', 'ridiculous', 'mess', 'headed', 'lame', 'worst', 'unfortunately', 'awful', 'cheap', 'write', 'should have', 'poor', 'boring', 'bad', 'metro', 'terrible', 'designed', 'flat', 'jesse', 'iii']\n",
            "----------L2 Norm-----------\n",
            "The model's average accuracy is 0.853500\n",
            "The most informative terms for pos are: ['great', 'fun', 'well', 'seen', 'back', 'very', 'quite', 'also', 'people', 'life', 'many', 'yet', 'job', 'american', 'see', 'while', 'the two', 'excellent', 'perfectly', 'most']\n",
            "The most informative terms for neg are: ['bad', 'only', 'unfortunately', 'worst', 'nothing', 'plot', 'any', 'boring', 'waste', 'script', 'poor', 'looks', 'director', 'here', 'on', 'awful', 'even', 'to be', 'mess', 'reason']\n"
          ],
          "name": "stdout"
        }
      ]
    },
    {
      "cell_type": "code",
      "metadata": {
        "id": "VBRqMYxy92e8",
        "outputId": "45b9196b-b8d3-4f11-fa46-f7e8ea3c1048",
        "colab": {
          "base_uri": "https://localhost:8080/",
          "height": 174
        }
      },
      "source": [
        "X,y,vocab = createFancyFeatures2(corpus)\n",
        "runEvaluation(X, y, vocab)"
      ],
      "execution_count": 122,
      "outputs": [
        {
          "output_type": "stream",
          "text": [
            "----------L1 Norm-----------\n",
            "The model's average accuracy is 0.815000\n",
            "The most informative terms for pos are: [('terrific', 'JJ'), ('fantastic', 'JJ'), ('memorable', 'JJ'), ('excellent', 'JJ'), ('sometimes', 'RB'), ('remember', 'VBP'), ('entertaining', 'JJ'), ('fun', 'NN'), ('follows', 'VBZ'), ('sherri', 'NN'), ('amidala', 'NN'), ('portrayed', 'VBN'), ('loved', 'VBD'), ('perfectly', 'RB'), ('deserves', 'VBZ'), ('epic', 'NN'), ('pulp', 'NN'), ('7', 'CD'), ('class', 'NN'), ('seen', 'VBN')]\n",
            "The most informative terms for neg are: [('awful', 'JJ'), ('mess', 'NN'), ('worst', 'JJS'), ('ridiculous', 'JJ'), ('waste', 'NN'), ('lame', 'JJ'), ('boring', 'JJ'), ('terrible', 'JJ'), ('unfortunately', 'RB'), ('jesse', 'NN'), ('dull', 'JJ'), ('forgot', 'VBD'), ('bad', 'JJ'), ('designed', 'VBN'), ('flat', 'JJ'), ('poor', 'JJ'), ('failure', 'NN'), ('work', 'VB'), ('jakob', 'NN'), ('only', 'JJ')]\n",
            "----------L2 Norm-----------\n",
            "The model's average accuracy is 0.844000\n",
            "The most informative terms for pos are: [('fun', 'NN'), ('great', 'JJ'), ('yet', 'RB'), ('seen', 'VBN'), ('excellent', 'JJ'), ('well', 'RB'), ('job', 'NN'), ('less', 'JJR'), ('perfectly', 'RB'), ('mind', 'NN'), ('entertaining', 'JJ'), ('true', 'JJ'), ('memorable', 'JJ'), ('pulp', 'NN'), ('sometimes', 'RB'), ('quite', 'RB'), ('people', 'NNS'), ('back', 'RB'), ('follows', 'VBZ'), ('hilarious', 'JJ')]\n",
            "The most informative terms for neg are: [('bad', 'JJ'), ('unfortunately', 'RB'), ('worst', 'JJS'), ('only', 'JJ'), ('nothing', 'NN'), ('awful', 'JJ'), ('have', 'VB'), ('poor', 'JJ'), ('script', 'NN'), ('reason', 'NN'), ('any', 'DT'), ('plot', 'NN'), ('terrible', 'JJ'), ('boring', 'JJ'), ('mess', 'NN'), ('looks', 'VBZ'), ('here', 'RB'), ('anyway', 'RB'), ('waste', 'NN'), ('supposed', 'VBN')]\n"
          ],
          "name": "stdout"
        }
      ]
    },
    {
      "cell_type": "markdown",
      "metadata": {
        "id": "jDA33ZHwD5Ek"
      },
      "source": [
        "**Basic Features**\n",
        "\n",
        "Bag of words representation is used to create a sparse matrix. This model does well to predict the class of the reviews.\n",
        "\n",
        "**Fancy Features**\n",
        "\n",
        "Used bigram model to create a sparse matrix. The model takes much longer time to run due to the higher dimension of the feature space. We see minor improvement in accuracy. The model did not improve by including the stopwards.\n",
        "\n",
        "Parts of speech tagging was used to creare fancyfeatures2. Since both postive and negative reviews could have same word the parts of speech can help differentiate between the features. There is noticable improvement in the model, however takes much longer to run.\n"
      ]
    },
    {
      "cell_type": "markdown",
      "metadata": {
        "id": "IaYtD88XD9T3"
      },
      "source": [
        "**Analysis of incorrect predictions**\n",
        "\n",
        "We can see below that the model gets wrong in cases were even a human reader could guess the class wrong. Overall acuuracy is close to 85%. We can further see below the actual text where the model made mistake and it is clear that the reviews do not clearly say positive or negative, hence the ambiquity on the model.\n"
      ]
    },
    {
      "cell_type": "code",
      "metadata": {
        "id": "nB_o00cJgZfm"
      },
      "source": [
        "# Analysis of the incorrect predictions \n",
        "\n",
        "from sklearn.model_selection import train_test_split\n",
        "X_train, X_test, y_train, y_test = train_test_split(X, y, test_size=0.01)\n",
        "\n",
        "model = LogisticRegression(penalty=\"l1\",solver=\"liblinear\")\n",
        "results = cross_validate(model,X_train,y_train,cv=KFold(n_splits=10, shuffle=True, random_state=1))\n",
        "\n",
        "model.fit(X_train,y_train)\n",
        "prediction = model.predict(X_test)"
      ],
      "execution_count": 165,
      "outputs": []
    },
    {
      "cell_type": "code",
      "metadata": {
        "id": "5OfP6OqlhXVj",
        "outputId": "491f7772-c607-46fd-82ed-0a238088f54a",
        "colab": {
          "base_uri": "https://localhost:8080/",
          "height": 51
        }
      },
      "source": [
        "print(\"Prediction Classes\", prediction.tolist())\n",
        "print(\"True Classes\", y_test)"
      ],
      "execution_count": 166,
      "outputs": [
        {
          "output_type": "stream",
          "text": [
            "Prediction Classes ['pos', 'pos', 'neg', 'pos', 'pos', 'neg', 'neg', 'pos', 'pos', 'pos', 'neg', 'pos', 'pos', 'neg', 'neg', 'neg', 'neg', 'neg', 'pos', 'neg']\n",
            "True Classes ['neg', 'pos', 'pos', 'pos', 'neg', 'neg', 'neg', 'pos', 'neg', 'pos', 'neg', 'neg', 'pos', 'neg', 'neg', 'neg', 'neg', 'neg', 'pos', 'neg']\n"
          ],
          "name": "stdout"
        }
      ]
    },
    {
      "cell_type": "code",
      "metadata": {
        "id": "qfLQTB8lZohr",
        "outputId": "7a0bb343-1468-49e4-f7ed-28d773b4038c",
        "colab": {
          "base_uri": "https://localhost:8080/",
          "height": 34
        }
      },
      "source": [
        "incorrect = []\n",
        "for index, key in enumerate(prediction):\n",
        "  if key != y_test[index]:\n",
        "    incorrect.append(index)\n",
        "print(incorrect, len(incorrect)*100/len(prediction), \"% predictions are incorrect\")"
      ],
      "execution_count": 167,
      "outputs": [
        {
          "output_type": "stream",
          "text": [
            "[0, 2, 4, 8, 11] 25.0 % predictions are incorrect\n"
          ],
          "name": "stdout"
        }
      ]
    },
    {
      "cell_type": "code",
      "metadata": {
        "id": "ME9CGuyNiZlf",
        "outputId": "7389186d-3365-42e7-e37e-e82fa077a2a8",
        "colab": {
          "base_uri": "https://localhost:8080/",
          "height": 104
        }
      },
      "source": [
        "X_test_orig = cvectorizer.inverse_transform(X_test)\n",
        "\" \".join(X_test_orig[2])"
      ],
      "execution_count": 168,
      "outputs": [
        {
          "output_type": "execute_result",
          "data": {
            "application/vnd.google.colaboratory.intrinsic+json": {
              "type": "string"
            },
            "text/plain": [
              "'14 about achieved addition adequate age all almost also although amidala an anakin and anticipated anything are arguably asexual babe bad be because believe better between biggest birth bit blockbuster broods but by can caprio celebrate cells century change characters christian christmas claims clan command concentrations concept conception considered dark darth day defines department desirable despite di do doubt down effects emissary encounter end entire every ewan exceeds excellence except experience fabric fact faith far fascinating find for force from george gets girlfriend gon guy hair has he her hermits hero high him his hot how humerous if immaculate in individual inferior interest interesting is it jedi jinn kenobi kill knight knights knows lack lacks leadership led leonardo let liam life live loners love lucas make makes mature mcgregor mean means metoclorian micro milestone missed mistake mixed more most mostly movie much must natalie neeson next no not obi of on one only organisms our out outstanding overall particularly performance phenomena pinnacle plan planet plot portman portrayed powerful predecessor presence qualities queen qui reaction ruination save scene script see she should situation skywalker something sort sound special star steamy stolen successor sure take technical tender terms than thanks that the them theory there these thinking this tie to true universe up us vader very viewing wan wars watch which who whole whose will within woman would years yoda young'"
            ]
          },
          "metadata": {
            "tags": []
          },
          "execution_count": 168
        }
      ]
    }
  ]
}