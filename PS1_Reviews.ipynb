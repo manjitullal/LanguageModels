{
 "cells": [
  {
   "cell_type": "markdown",
   "metadata": {
    "id": "Jc2R3x6QSIFi"
   },
   "source": [
    "In this experiment, you will explore the accuracy of sentiment classificaiton using different feature representations of text documents.\n",
    "\n",
    "First, you will implement `createBasicFeatures`, which creates a sparse matrix representation of a collection of documents. For this exercise, you should have a feature for each word containing at least one alphabetic character. You may use the `numpy` and `sklearn` packages to help with implementing a sparse matrix.\n",
    "\n",
    "Then, you will implement `createFancyFeatures`, which can specify at any other features you choose to help improve performance on the classification task.\n",
    "\n",
    "The two code blocks at the end train and evaluate two models—logistic regression with L1 and L2 regularization—using your featurization functions. Besides held-out classification accuracy with 10-fold cross-validation, you will also see the features in each class given high weights by the model.\n",
    "\n",
    "A helpful resource for getting up to speed with vector representations of documents is the first two chapters of Delip Rao and Brian McMahan, _Natural Language Processing with PyTorch_, O'Reilly, 2019.  You should be able to <a href=\"https://learning.oreilly.com/library/view/natural-language-processing/9781491978221/\">read it online</a> via the Northeastern Library's subscription using a <tt>northeastern.edu</tt> email address."
   ]
  },
  {
   "cell_type": "code",
   "execution_count": 1,
   "metadata": {
    "id": "AdVS67_HNRmW"
   },
   "outputs": [],
   "source": [
    "import json\n",
    "import requests\n",
    "from sklearn.linear_model import LogisticRegression\n",
    "from sklearn.model_selection import cross_validate,LeaveOneOut,KFold\n",
    "import numpy as np\n",
    "from nltk import word_tokenize\n",
    "from nltk.util import ngrams"
   ]
  },
  {
   "cell_type": "code",
   "execution_count": 2,
   "metadata": {
    "cellView": "both",
    "id": "PzjMY8fYQbB6"
   },
   "outputs": [],
   "source": [
    "# read in the movie review corpus\n",
    "def readReviews():\n",
    "    raw = requests.get(\"https://raw.githubusercontent.com/mutherr/CS6120-PS1-data/master/cornell_reviews.json\").text.strip()\n",
    "    corpus = [json.loads(line) for line in raw.split(\"\\n\")]\n",
    "    return corpus"
   ]
  },
  {
   "cell_type": "markdown",
   "metadata": {
    "id": "Qvd3I95FT01D"
   },
   "source": [
    "This is where you will implement two functions to featurize the data."
   ]
  },
  {
   "cell_type": "code",
   "execution_count": 54,
   "metadata": {
    "id": "039fPQcF7OkN"
   },
   "outputs": [],
   "source": [
    "#NB: The current contents are for testing only\n",
    "#This function should return: \n",
    "#  -a sparse numpy matrix of document features\n",
    "#  -a list of the correct class for each document\n",
    "#  -a list of the vocabulary used by the features, such that the ith term of the\n",
    "#    list is the word whose counts appear in the ith column of the matrix. \n",
    "\n",
    "# This function should create a feature representation using all tokens that\n",
    "# contain an alphabetic character.\n",
    "from collections import defaultdict\n",
    "from sklearn.feature_extraction import DictVectorizer, FeatureHasher\n",
    "from sklearn.feature_extraction.text import TfidfVectorizer\n",
    "import re\n",
    "dictvectorizer = DictVectorizer()\n",
    "tfidfvectorizer = TfidfVectorizer(sublinear_tf=True, max_df=0.5, stop_words='english')\n",
    "#tfidfvectorizer = TfidfVectorizer(sublinear_tf=True, max_df=0.5, stop_words='english', ngram_range=(1,2))\n",
    "\n",
    "def tokens(doc):\n",
    "    \"\"\"Extract tokens from doc.\n",
    "    \"\"\"\n",
    "    return (tok.lower() for tok in re.findall(r\"\\w+\", doc))\n",
    "\n",
    "def token_freqs(doc):\n",
    "    \"\"\"Extract a dict mapping tokens from doc to their frequencies.\"\"\"\n",
    "    freq = defaultdict(int)\n",
    "    for tok in tokens(doc):\n",
    "        freq[tok] += 1\n",
    "    return freq\n",
    "\n",
    "def createBasicFeatures(corpus):\n",
    "    #Your code here\n",
    "    classes = []\n",
    "    vocab = []\n",
    "    all_text = []\n",
    "    for i in corpus:\n",
    "        classes.append(i.get('class'))\n",
    "        text = i.get('text')\n",
    "        temp = token_freqs(text)\n",
    "        vocab =  list(sorted(set(vocab + list(temp.keys()))))\n",
    "        all_text.append(temp)\n",
    "  \n",
    "    texts = dictvectorizer.fit_transform(all_text) \n",
    "    return texts,classes,vocab\n",
    "\n",
    "def bigram_freqs(doc):\n",
    "    \"\"\"Extract a dict mapping tokens from doc to their frequencies.\"\"\"\n",
    "    freq = defaultdict(int)\n",
    "    for tok in doc:\n",
    "        freq[tok] += 1\n",
    "    return freq\n",
    "\n",
    "def token_text(doc):\n",
    "    \"\"\"Extract a dict mapping tokens from doc to their frequencies.\"\"\"\n",
    "    text = []\n",
    "    for tok in tokens(doc):\n",
    "        text.append(tok)\n",
    "    return text\n",
    "\n",
    "# This function can add other features you want that help classification\n",
    "# accuracy, such as bigrams, word prefixes and suffixes, etc.\n",
    "\n",
    "'''Bigram implementation takes very long time'''\n",
    "\"\"\"\n",
    "def createFancyFeatures(corpus):\n",
    "  #Your code here\n",
    "    classes = []\n",
    "    vocab = []\n",
    "    all_text = []\n",
    "    for i in corpus:\n",
    "        classes.append(i.get('class'))\n",
    "        text = i.get('text')\n",
    "        token = word_tokenize(text)\n",
    "        bigram = list(ngrams(token, 2)) \n",
    "        temp = bigram_freqs(bigram)\n",
    "        vocab =  list(sorted(set(vocab + list(temp.keys()))))\n",
    "        all_text.append(temp)\n",
    "  \n",
    "    texts = vectorizer.fit_transform(all_text) \n",
    "    return texts,classes,vocab\"\"\"\n",
    "\n",
    "def createFancyFeatures(corpus):\n",
    "    #Your code here\n",
    "    classes = []\n",
    "    vocab = []\n",
    "    all_text = []\n",
    "    for i in corpus:\n",
    "        classes.append(i.get('class'))\n",
    "        text = i.get('text')\n",
    "        all_text.append(text)  \n",
    "        \n",
    "    texts = tfidfvectorizer.fit_transform(all_text) \n",
    "    vocab = tfidfvectorizer.get_feature_names()\n",
    "    return texts,classes,vocab"
   ]
  },
  {
   "cell_type": "code",
   "execution_count": 7,
   "metadata": {
    "id": "KfTBqBltXe7Y"
   },
   "outputs": [],
   "source": [
    "#given a numpy matrix representation of the features for the training set, the \n",
    "# vector of true classes for each example, and the vocabulary as described \n",
    "# above, this computes the accuracy of the model using leave one out cross \n",
    "# validation and reports the most indicative features for each class\n",
    "\n",
    "def evaluateModel(X,y,vocab,penalty=\"l1\"):\n",
    "  #create and fit the model\n",
    "  model = LogisticRegression(penalty=penalty,solver=\"liblinear\")\n",
    "  results = cross_validate(model,X,y,cv=KFold(n_splits=10, shuffle=True, random_state=1))\n",
    "  \n",
    "  #determine the average accuracy\n",
    "  scores = results[\"test_score\"]\n",
    "  avg_score = sum(scores)/len(scores)\n",
    "  \n",
    "  #determine the most informative features\n",
    "  # this requires us to fit the model to everything, because we need a\n",
    "  # single model to draw coefficients from, rather than 26\n",
    "  model.fit(X,y)\n",
    "  class0_weight_sorted = model.coef_[0, :].argsort()\n",
    "  class1_weight_sorted = (-model.coef_[0, :]).argsort()\n",
    "\n",
    "  termsToTake = 20\n",
    "  class0_indicators = [vocab[i] for i in class0_weight_sorted[:termsToTake]]\n",
    "  class1_indicators = [vocab[i] for i in class1_weight_sorted[:termsToTake]]\n",
    "\n",
    "  if model.classes_[0] == \"pos\":\n",
    "    return avg_score,class0_indicators,class1_indicators\n",
    "  else:\n",
    "    return avg_score,class1_indicators,class0_indicators\n",
    "\n",
    "def runEvaluation(X,y,vocab):\n",
    "  print(\"----------L1 Norm-----------\")\n",
    "  avg_score,pos_indicators,neg_indicators = evaluateModel(X,y,vocab,\"l1\")\n",
    "  print(\"The model's average accuracy is %f\"%avg_score)\n",
    "  print(\"The most informative terms for pos are: %s\"%pos_indicators)\n",
    "  print(\"The most informative terms for neg are: %s\"%neg_indicators)\n",
    "  #this call will fit a model with L2 normalization\n",
    "  print(\"----------L2 Norm-----------\")\n",
    "  avg_score,pos_indicators,neg_indicators = evaluateModel(X,y,vocab,\"l2\")\n",
    "  print(\"The model's average accuracy is %f\"%avg_score)\n",
    "  print(\"The most informative terms for pos are: %s\"%pos_indicators)\n",
    "  print(\"The most informative terms for neg are: %s\"%neg_indicators)"
   ]
  },
  {
   "cell_type": "markdown",
   "metadata": {
    "id": "72OUet02TjBo"
   },
   "source": [
    "Run the following to train and evaluate two models using basic features:"
   ]
  },
  {
   "cell_type": "code",
   "execution_count": 9,
   "metadata": {},
   "outputs": [],
   "source": [
    "corpus = readReviews()"
   ]
  },
  {
   "cell_type": "code",
   "execution_count": 11,
   "metadata": {
    "colab": {
     "base_uri": "https://localhost:8080/",
     "height": 172
    },
    "id": "4IpJ7PKjvc8I",
    "outputId": "7209fb6e-3592-41aa-acbc-d953f863e1d4"
   },
   "outputs": [
    {
     "name": "stdout",
     "output_type": "stream",
     "text": [
      "----------L1 Norm-----------\n",
      "The model's average accuracy is 0.825500\n",
      "The most informative terms for pos are: ['flaws', 'memorable', 'terrific', 'masterpiece', 'enjoyable', 'using', 'excellent', 'sherri', 'edge', '7', 'overall', 'master', 'fun', 'follows', 'perfectly', 'gas', 'different', 'quite', 'works', 'solid']\n",
      "The most informative terms for neg are: ['waste', 'mess', 'lame', 'ridiculous', 'awful', 'worst', 'unfortunately', 'headed', 'boring', 'cheap', '0', 'write', 'superior', 'bad', 'tedious', 'terrible', 'maybe', 'supposed', 'jesse', 'poor']\n",
      "----------L2 Norm-----------\n",
      "The model's average accuracy is 0.834000\n",
      "The most informative terms for pos are: ['fun', 'great', 'back', 'excellent', 'quite', 'well', 'seen', 'overall', 'perfectly', 'american', 'yet', 'memorable', 'pulp', 'job', 'terrific', 'true', 'very', 'different', 'performances', 'masterpiece']\n",
      "The most informative terms for neg are: ['bad', 'unfortunately', 'worst', 'waste', 'nothing', 'boring', 'only', 'script', 'plot', 'awful', 'reason', 'poor', 'looks', 'supposed', 'lame', 'mess', 'women', 'any', 'should', 'maybe']\n"
     ]
    }
   ],
   "source": [
    "X,y,vocab = createBasicFeatures(corpus)\n",
    "runEvaluation(X, y, vocab)"
   ]
  },
  {
   "cell_type": "markdown",
   "metadata": {
    "id": "4sjxLL2PTrJi"
   },
   "source": [
    "Run the following to train and evaluate two models using extended features:"
   ]
  },
  {
   "cell_type": "code",
   "execution_count": 55,
   "metadata": {
    "id": "1iHudrPb5NPY"
   },
   "outputs": [
    {
     "name": "stdout",
     "output_type": "stream",
     "text": [
      "----------L1 Norm-----------\n",
      "The model's average accuracy is 0.753500\n",
      "The most informative terms for pos are: ['great', 'life', 'perfectly', 'perfect', 'memorable', 'quite', 'excellent', 'seen', 'hilarious', 'performances', 'different', 'performance', 'true', 'overall', 'war', 'terrific', 'best', 'world', 'jackie', 'especially']\n",
      "The most informative terms for neg are: ['bad', 'worst', 'boring', 'supposed', 'waste', 'ridiculous', 'mess', 'awful', 'stupid', 'wasted', 'plot', 'script', 'reason', 'dull', 'lame', 'unfortunately', 'looks', 'attempt', 'fails', 'maybe']\n",
      "----------L2 Norm-----------\n",
      "The model's average accuracy is 0.861500\n",
      "The most informative terms for pos are: ['great', 'life', 'perfect', 'hilarious', 'excellent', 'perfectly', 'memorable', 'terrific', 'true', 'best', 'quite', 'performances', 'world', 'different', 'performance', 'fun', 'family', 'especially', 'overall', 'wonderful']\n",
      "The most informative terms for neg are: ['bad', 'worst', 'boring', 'plot', 'supposed', 'stupid', 'script', 'waste', 'unfortunately', 'awful', 'reason', 'mess', 'ridiculous', 'poor', 'wasted', 'looks', 'dull', 'lame', 'terrible', 'attempt']\n"
     ]
    }
   ],
   "source": [
    "X,y,vocab = createFancyFeatures(corpus)\n",
    "runEvaluation(X, y, vocab)"
   ]
  }
 ],
 "metadata": {
  "colab": {
   "collapsed_sections": [],
   "name": "PS1-Reviews.ipynb",
   "provenance": []
  },
  "kernelspec": {
   "display_name": "Python 3",
   "language": "python",
   "name": "python3"
  },
  "language_info": {
   "codemirror_mode": {
    "name": "ipython",
    "version": 3
   },
   "file_extension": ".py",
   "mimetype": "text/x-python",
   "name": "python",
   "nbconvert_exporter": "python",
   "pygments_lexer": "ipython3",
   "version": "3.7.3"
  }
 },
 "nbformat": 4,
 "nbformat_minor": 1
}
